{
  "cells": [
    {
      "cell_type": "markdown",
      "metadata": {
        "id": "view-in-github",
        "colab_type": "text"
      },
      "source": [
        "<a href=\"https://colab.research.google.com/github/jeevankumar20/INFO_5731_Spring2023/blob/main/Jeevan_In_class_exercise_01.ipynb\" target=\"_parent\"><img src=\"https://colab.research.google.com/assets/colab-badge.svg\" alt=\"Open In Colab\"/></a>"
      ]
    },
    {
      "cell_type": "markdown",
      "metadata": {
        "id": "DymRJbxDBCnf"
      },
      "source": [
        "# **The first In-class-exercise (01/24/2023, 40 points in total)**"
      ]
    },
    {
      "cell_type": "markdown",
      "metadata": {
        "id": "03jb4GZsBkBS"
      },
      "source": [
        "(1) Write a Python program to calculate the length of a string. (4 points)"
      ]
    },
    {
      "cell_type": "code",
      "execution_count": 1,
      "metadata": {
        "colab": {
          "base_uri": "https://localhost:8080/"
        },
        "id": "YaGLbSHHB8Ej",
        "outputId": "ec00e3e6-5fec-4340-9c83-9b119ff400f2"
      },
      "outputs": [
        {
          "output_type": "stream",
          "name": "stdout",
          "text": [
            "5\n"
          ]
        }
      ],
      "source": [
        "# write your answer here\n",
        "s1=\"hello\"\n",
        "print(len(s1))"
      ]
    },
    {
      "cell_type": "markdown",
      "metadata": {
        "id": "jJDe71iLB616"
      },
      "source": [
        "(2) Write a Python program to count the number of characters in a string. (4 points)\n",
        "\n",
        "Sample String : 'google.com‘, \n",
        "\n",
        "Expected Result : {'o': 3, 'g': 2, '.': 1, 'e': 1, 'l': 1, 'm': 1, 'c': 1}"
      ]
    },
    {
      "cell_type": "code",
      "execution_count": 2,
      "metadata": {
        "colab": {
          "base_uri": "https://localhost:8080/"
        },
        "id": "MtKskTzbCLaU",
        "outputId": "a8dec5f8-e1e4-4aab-bf55-bc6208b0360d"
      },
      "outputs": [
        {
          "output_type": "stream",
          "name": "stdout",
          "text": [
            "{'o': 3, 'g': 2, 'l': 1, 'e': 1, '.': 1, 'c': 1, 'm': 1}\n"
          ]
        }
      ],
      "source": [
        "# write your answer here\n",
        "mystring=\"google.com\"\n",
        "dic={}\n",
        "for c in mystring:\n",
        "    if c in dic:\n",
        "        dic[c]+=1\n",
        "    else:\n",
        "        dic[c]=1\n",
        "print(dict(sorted(dic.items(), key=lambda x: x[1], reverse=True)))\n",
        "\n"
      ]
    },
    {
      "cell_type": "markdown",
      "metadata": {
        "id": "55W9AMdXCSpV"
      },
      "source": [
        "(3) Write a Python program to sum all the items in a list. (4 points)"
      ]
    },
    {
      "cell_type": "code",
      "execution_count": 3,
      "metadata": {
        "colab": {
          "base_uri": "https://localhost:8080/"
        },
        "id": "I57NXsauCec2",
        "outputId": "7a43071d-2732-44f8-b163-b58c917dad42"
      },
      "outputs": [
        {
          "output_type": "stream",
          "name": "stdout",
          "text": [
            "15\n"
          ]
        }
      ],
      "source": [
        "# write your answer here\n",
        "num=[1, 2, 3, 4, 5]\n",
        "print(sum(num))"
      ]
    },
    {
      "cell_type": "markdown",
      "metadata": {
        "id": "4ulBZ6yhCi9F"
      },
      "source": [
        "(4) Write a Python program to get a string from a given string where all occurrences of its first char have been changed to '\\$', except the first char itself. (4 points)\n",
        "\n",
        "Sample String : 'restart‘, \n",
        "\n",
        "Expected Result : 'resta\\$t'"
      ]
    },
    {
      "cell_type": "code",
      "execution_count": 6,
      "metadata": {
        "colab": {
          "base_uri": "https://localhost:8080/"
        },
        "id": "Fj0XhwbBCw2o",
        "outputId": "7a5e04ee-5f37-4397-c5d0-43de8dbb00a1"
      },
      "outputs": [
        {
          "output_type": "stream",
          "name": "stdout",
          "text": [
            "resta$t\n"
          ]
        }
      ],
      "source": [
        "# write your answer here\n",
        "\n",
        "s_string=\"restart\"\n",
        "f_char=s_string[0]\n",
        "n_string=s_string.replace(f_char, '$')\n",
        "n_string=f_char+n_string[1:]\n",
        "print(n_string)\n"
      ]
    },
    {
      "cell_type": "markdown",
      "metadata": {
        "id": "_bIP7s1MCzue"
      },
      "source": [
        "(5) Write a program with python which could accept two parameter a and b to calculate and output the result of S, where \n",
        "\n",
        "$\\ S=3.14*(1+a/b)^3$ (4 points)\n",
        "\n"
      ]
    },
    {
      "cell_type": "code",
      "execution_count": 7,
      "metadata": {
        "colab": {
          "base_uri": "https://localhost:8080/"
        },
        "id": "w79QilHXD3Mg",
        "outputId": "d1a5afd7-4263-4068-a94b-a570cf135e5c"
      },
      "outputs": [
        {
          "name": "stdout",
          "output_type": "stream",
          "text": [
            "Enter A value4\n",
            "Enter B value5\n"
          ]
        },
        {
          "output_type": "execute_result",
          "data": {
            "text/plain": [
              "18.312480000000004"
            ]
          },
          "metadata": {},
          "execution_count": 7
        }
      ],
      "source": [
        "a=int(input(\"Enter A value\"))\n",
        "b=int(input(\"Enter B value\"))\n",
        "def fun(a,b):\n",
        "    result=3.14*((1+a/b)**3)\n",
        "    return result\n",
        "fun(a,b)"
      ]
    },
    {
      "cell_type": "markdown",
      "metadata": {
        "id": "xCa2bK9aD4Q3"
      },
      "source": [
        "(6) Write a Python program to concatenate following dictionaries to create a new one. (4 points)\n",
        "\n",
        "Sample Dictionary : dic1={1:10, 2:20}, dic2={3:30, 4:40}, dic3={5:50,6:60}, \n",
        "\n",
        "Expected Result : {1: 10, 2: 20, 3: 30, 4: 40, 5: 50, 6: 60}\n"
      ]
    },
    {
      "cell_type": "code",
      "execution_count": 8,
      "metadata": {
        "colab": {
          "base_uri": "https://localhost:8080/"
        },
        "id": "_z4aLqAbEET1",
        "outputId": "43aa2a3f-4535-4af7-84ee-4570b3384589"
      },
      "outputs": [
        {
          "output_type": "stream",
          "name": "stdout",
          "text": [
            "{1: 10, 2: 20, 3: 30, 4: 40, 5: 50, 6: 60}\n"
          ]
        }
      ],
      "source": [
        "# write your answer here\n",
        "dic1={1:10, 2:20}\n",
        "dic2={3:30, 4:40}\n",
        "dic3={5:50,6:60}\n",
        "newdict={**dic1, **dic2, **dic3}\n",
        "print(newdict)"
      ]
    },
    {
      "cell_type": "markdown",
      "metadata": {
        "id": "0v48Vqa7FrQh"
      },
      "source": [
        "(7) Write a Python program to check whether an element exists within a tuple. (4 points)"
      ]
    },
    {
      "cell_type": "code",
      "execution_count": 9,
      "metadata": {
        "colab": {
          "base_uri": "https://localhost:8080/"
        },
        "id": "7WEmgq-DF2P1",
        "outputId": "55eae793-cada-4887-da98-b42e8ad6510b"
      },
      "outputs": [
        {
          "output_type": "stream",
          "name": "stdout",
          "text": [
            "Element is present\n"
          ]
        }
      ],
      "source": [
        "# write your answer here\n",
        "tup=(1,2,3,4,5,6)\n",
        "ele=3\n",
        "if(ele in tup):\n",
        "    print(\"Element is present\")\n",
        "else:\n",
        "    print(\"Element is not present\")\n",
        "    "
      ]
    },
    {
      "cell_type": "markdown",
      "metadata": {
        "id": "vD5PYLMuGga_"
      },
      "source": [
        "(8) Write a Python program to find maximum and the minimum value in a set. (4 points)"
      ]
    },
    {
      "cell_type": "code",
      "execution_count": 10,
      "metadata": {
        "colab": {
          "base_uri": "https://localhost:8080/"
        },
        "id": "t0D5kdJUGjjw",
        "outputId": "05a15ab0-cea6-4546-d795-715580391ca8"
      },
      "outputs": [
        {
          "output_type": "stream",
          "name": "stdout",
          "text": [
            "Maximum value in set: 5\n",
            "Minimum value in set: 1\n"
          ]
        }
      ],
      "source": [
        "# write your answer here\n",
        "my_set = {1, 2, 3, 4, 5}\n",
        "\n",
        "maximum = max(my_set)\n",
        "minimum = min(my_set)\n",
        "\n",
        "print(\"Maximum value in set:\", maximum)\n",
        "print(\"Minimum value in set:\", minimum)"
      ]
    },
    {
      "cell_type": "markdown",
      "metadata": {
        "id": "uHkd-y5VhVWC"
      },
      "source": [
        "(9) Write a Python program to randomly divide the students in this class into six groups for term projects, each group should have at least 4 students but no more than 6 students (including 6). Here is the students list: (4 points)\n",
        "\n",
        "studnet_list = ['ja0964','sa1198','sb1357','vb0218','sc1229','kg0569','kg0470','sg1297','bg0320','fh0141','jl1252','sk1386',\n",
        "           'ak0956','sk1390','sk1458','sk1313','ak0934','vm0377','nm0618','sm1640','sm1907','gn0108','pr0353','dr0609','ms1500','aos0040','ds0814', 'av0659','nv0234','hy0232']"
      ]
    },
    {
      "cell_type": "code",
      "execution_count": 11,
      "metadata": {
        "colab": {
          "base_uri": "https://localhost:8080/"
        },
        "id": "3iGbmcOBhTwy",
        "outputId": "2e332987-35d0-4cad-986e-d3627e2f5f82"
      },
      "outputs": [
        {
          "output_type": "stream",
          "name": "stdout",
          "text": [
            "Group 1: ['ja0964', 'hy0232', 'sa1198', 'sk1386', 'bg0320']\n",
            "Group 2: ['sk1458', 'gn0108', 'kg0470', 'fh0141', 'aos0040']\n",
            "Group 3: ['sb1357', 'sm1907', 'ms1500', 'ak0956', 'nv0234']\n",
            "Group 4: ['pr0353', 'sg1297', 'vm0377', 'ak0934', 'nm0618']\n",
            "Group 5: ['sk1390', 'sm1640', 'sk1313', 'dr0609', 'ds0814']\n",
            "Group 6: ['kg0569', 'jl1252', 'sc1229', 'av0659', 'vb0218']\n"
          ]
        }
      ],
      "source": [
        "import random\n",
        "\n",
        "student_list=['ja0964','sa1198','sb1357','vb0218','sc1229','kg0569','kg0470','sg1297','bg0320','fh0141','jl1252','sk1386', 'ak0956','sk1390','sk1458','sk1313','ak0934','vm0377','nm0618','sm1640','sm1907','gn0108','pr0353','dr0609','ms1500','aos0040','ds0814', 'av0659','nv0234','hy0232']\n",
        "num_groups=6\n",
        "group_size=(len(student_list)+num_groups-1)//num_groups\n",
        "random.shuffle(student_list)\n",
        "grouped_students=[student_list[i:i+group_size] for i in range(0, len(student_list), group_size)]\n",
        "for i, group in enumerate(grouped_students):\n",
        "    print(\"Group {}: {}\".format(i+1, group))\n"
      ]
    },
    {
      "cell_type": "markdown",
      "metadata": {
        "id": "K4lCfWIRIYbX"
      },
      "source": [
        "(10) Write a Python program to find the duplicate elements in a given array of integers. Return -1 If there are no such elements. (4 points)"
      ]
    },
    {
      "cell_type": "code",
      "execution_count": 12,
      "metadata": {
        "colab": {
          "base_uri": "https://localhost:8080/"
        },
        "id": "GqiAYgwRIYbY",
        "outputId": "ffc47d3e-f401-44c8-d16c-e1f7b45206b3"
      },
      "outputs": [
        {
          "output_type": "stream",
          "name": "stdout",
          "text": [
            "[3, 5]\n"
          ]
        }
      ],
      "source": [
        "# write your answer here\n",
        "arr=[1, 2, 3, 4, 5, 3, 5]\n",
        "duplicate_elements=[]\n",
        "for i in range(len(arr)):\n",
        "    for j in range(i+1, len(arr)):\n",
        "        if arr[i]==arr[j]:\n",
        "            duplicate_elements.append(arr[i])\n",
        "if len(duplicate_elements)==0:\n",
        "    print(\"-1\")\n",
        "else:\n",
        "    print(list(set(duplicate_elements)))\n",
        "    "
      ]
    },
    {
      "cell_type": "markdown",
      "metadata": {
        "id": "X_jiUiBTIYbY"
      },
      "source": [
        "(11) Write a Python program to select all the Sundays of a specified year. (4 extra points)"
      ]
    },
    {
      "cell_type": "code",
      "execution_count": 13,
      "metadata": {
        "colab": {
          "base_uri": "https://localhost:8080/"
        },
        "id": "V-Pmo9PIIYbY",
        "outputId": "688f0af7-4816-41ab-e030-958c8d9c3c95"
      },
      "outputs": [
        {
          "output_type": "stream",
          "name": "stdout",
          "text": [
            "All Sundays in 2020 :\n",
            "05-01-2020\n",
            "12-01-2020\n",
            "19-01-2020\n",
            "26-01-2020\n",
            "02-02-2020\n",
            "09-02-2020\n",
            "16-02-2020\n",
            "23-02-2020\n",
            "01-03-2020\n",
            "08-03-2020\n",
            "15-03-2020\n",
            "22-03-2020\n",
            "29-03-2020\n",
            "05-04-2020\n",
            "12-04-2020\n",
            "19-04-2020\n",
            "26-04-2020\n",
            "03-05-2020\n",
            "10-05-2020\n",
            "17-05-2020\n",
            "24-05-2020\n",
            "31-05-2020\n",
            "07-06-2020\n",
            "14-06-2020\n",
            "21-06-2020\n",
            "28-06-2020\n",
            "05-07-2020\n",
            "12-07-2020\n",
            "19-07-2020\n",
            "26-07-2020\n",
            "02-08-2020\n",
            "09-08-2020\n",
            "16-08-2020\n",
            "23-08-2020\n",
            "30-08-2020\n",
            "06-09-2020\n",
            "13-09-2020\n",
            "20-09-2020\n",
            "27-09-2020\n",
            "04-10-2020\n",
            "11-10-2020\n",
            "18-10-2020\n",
            "25-10-2020\n",
            "01-11-2020\n",
            "08-11-2020\n",
            "15-11-2020\n",
            "22-11-2020\n",
            "29-11-2020\n",
            "06-12-2020\n",
            "13-12-2020\n",
            "20-12-2020\n",
            "27-12-2020\n"
          ]
        }
      ],
      "source": [
        "from datetime import date, timedelta\n",
        "\n",
        "def sundays_of_year(year):\n",
        "    sundays = []\n",
        "    d = date(year, 1, 1)\n",
        "    while d.year == year:\n",
        "        if d.weekday() == 6:\n",
        "            sundays.append(d)\n",
        "        d += timedelta(days=1)\n",
        "    return sundays\n",
        "\n",
        "year = 2020\n",
        "sundays = sundays_of_year(year)\n",
        "\n",
        "print(\"All Sundays in\", year, \":\")\n",
        "for sunday in sundays:\n",
        "    print(sunday.strftime(\"%d-%m-%Y\"))\n"
      ]
    },
    {
      "cell_type": "code",
      "execution_count": null,
      "metadata": {
        "id": "AG7tNbXvIYbY"
      },
      "outputs": [],
      "source": []
    }
  ],
  "metadata": {
    "colab": {
      "provenance": [],
      "include_colab_link": true
    },
    "kernelspec": {
      "display_name": "Python 3 (ipykernel)",
      "language": "python",
      "name": "python3"
    },
    "language_info": {
      "codemirror_mode": {
        "name": "ipython",
        "version": 3
      },
      "file_extension": ".py",
      "mimetype": "text/x-python",
      "name": "python",
      "nbconvert_exporter": "python",
      "pygments_lexer": "ipython3",
      "version": "3.9.12"
    }
  },
  "nbformat": 4,
  "nbformat_minor": 0
}